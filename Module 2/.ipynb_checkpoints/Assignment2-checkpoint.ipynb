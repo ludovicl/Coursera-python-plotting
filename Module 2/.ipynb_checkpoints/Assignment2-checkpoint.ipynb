{
 "cells": [
  {
   "cell_type": "markdown",
   "metadata": {},
   "source": [
    "# Assignment 2\n",
    "\n",
    "Before working on this assignment please read these instructions fully. In the submission area, you will notice that you can click the link to **Preview the Grading** for each step of the assignment. This is the criteria that will be used for peer grading. Please familiarize yourself with the criteria before beginning the assignment.\n",
    "\n",
    "An NOAA dataset has been stored in the file `data/C2A2_data/BinnedCsvs_d400/fb441e62df2d58994928907a91895ec62c2c42e6cd075c2700843b89.csv`. This is the dataset to use for this assignment. Note: The data for this assignment comes from a subset of The National Centers for Environmental Information (NCEI) [Daily Global Historical Climatology Network](https://www1.ncdc.noaa.gov/pub/data/ghcn/daily/readme.txt) (GHCN-Daily). The GHCN-Daily is comprised of daily climate records from thousands of land surface stations across the globe.\n",
    "\n",
    "Each row in the assignment datafile corresponds to a single observation.\n",
    "\n",
    "The following variables are provided to you:\n",
    "\n",
    "* **id** : station identification code\n",
    "* **date** : date in YYYY-MM-DD format (e.g. 2012-01-24 = January 24, 2012)\n",
    "* **element** : indicator of element type\n",
    "    * TMAX : Maximum temperature (tenths of degrees C)\n",
    "    * TMIN : Minimum temperature (tenths of degrees C)\n",
    "* **value** : data value for element (tenths of degrees C)\n",
    "\n",
    "For this assignment, you must:\n",
    "\n",
    "1. Read the documentation and familiarize yourself with the dataset, then write some python code which returns a line graph of the record high and record low temperatures by day of the year over the period 2005-2014. The area between the record high and record low temperatures for each day should be shaded.\n",
    "2. Overlay a scatter of the 2015 data for any points (highs and lows) for which the ten year record (2005-2014) record high or record low was broken in 2015.\n",
    "3. Watch out for leap days (i.e. February 29th), it is reasonable to remove these points from the dataset for the purpose of this visualization.\n",
    "4. Make the visual nice! Leverage principles from the first module in this course when developing your solution. Consider issues such as legends, labels, and chart junk.\n",
    "\n",
    "The data you have been given is near **Ann Arbor, Michigan, United States**, and the stations the data comes from are shown on the map below."
   ]
  },
  {
   "cell_type": "code",
   "execution_count": 1,
   "metadata": {},
   "outputs": [
    {
     "ename": "ModuleNotFoundError",
     "evalue": "No module named 'matplotlib'",
     "output_type": "error",
     "traceback": [
      "\u001b[0;31m---------------------------------------------------------------------------\u001b[0m",
      "\u001b[0;31mModuleNotFoundError\u001b[0m                       Traceback (most recent call last)",
      "\u001b[0;32m<ipython-input-1-27d1ff35335b>\u001b[0m in \u001b[0;36m<module>\u001b[0;34m\u001b[0m\n\u001b[0;32m----> 1\u001b[0;31m \u001b[0;32mimport\u001b[0m \u001b[0mmatplotlib\u001b[0m\u001b[0;34m.\u001b[0m\u001b[0mpyplot\u001b[0m \u001b[0;32mas\u001b[0m \u001b[0mplt\u001b[0m\u001b[0;34m\u001b[0m\u001b[0;34m\u001b[0m\u001b[0m\n\u001b[0m\u001b[1;32m      2\u001b[0m \u001b[0;32mimport\u001b[0m \u001b[0mpandas\u001b[0m \u001b[0;32mas\u001b[0m \u001b[0mpd\u001b[0m\u001b[0;34m\u001b[0m\u001b[0;34m\u001b[0m\u001b[0m\n\u001b[1;32m      3\u001b[0m \u001b[0;34m\u001b[0m\u001b[0m\n\u001b[1;32m      4\u001b[0m \u001b[0;32mdef\u001b[0m \u001b[0mtemperature_graph\u001b[0m\u001b[0;34m(\u001b[0m\u001b[0;34m)\u001b[0m\u001b[0;34m:\u001b[0m\u001b[0;34m\u001b[0m\u001b[0;34m\u001b[0m\u001b[0m\n\u001b[1;32m      5\u001b[0m     \u001b[0mdf\u001b[0m \u001b[0;34m=\u001b[0m \u001b[0mpd\u001b[0m\u001b[0;34m.\u001b[0m\u001b[0mread_csv\u001b[0m\u001b[0;34m(\u001b[0m\u001b[0;34m'data/C2A2_data/BinnedCsvs_d400/fb441e62df2d58994928907a91895ec62c2c42e6cd075c2700843b89.csv'\u001b[0m\u001b[0;34m)\u001b[0m\u001b[0;34m\u001b[0m\u001b[0;34m\u001b[0m\u001b[0m\n",
      "\u001b[0;31mModuleNotFoundError\u001b[0m: No module named 'matplotlib'"
     ]
    }
   ],
   "source": [
    "import matplotlib.pyplot as plt\n",
    "import pandas as pd\n",
    "\n",
    "def temperature_graph():\n",
    "    df = pd.read_csv('data/C2A2_data/BinnedCsvs_d400/fb441e62df2d58994928907a91895ec62c2c42e6cd075c2700843b89.csv')\n",
    "    df = df[[\"Date\", \"Data_Value\", \"Element\"]]\n",
    "    df['Data_Value'] = df['Data_Value'] * 0.1\n",
    "    df['Date'] = pd.to_datetime(df['Date'], format='%Y-%m-%d')\n",
    "    df['Year'] = df['Date'].dt.year\n",
    "    df['Month_Day'] = df['Date'].dt.strftime('%m-%d')\n",
    "    df = df.where(df['Month_Day'] != '02-29')\n",
    "    \n",
    "    df_2005_2014 = df.where(df['Date'] <= '2014')\n",
    "    df_2005_2014['days'] = df_2005_2014['Date'].dt.dayofyear\n",
    "    df_2015 = df.where(df['Date'] <= '2015')\n",
    "    df_2015['days'] = df_2015['Date'].dt.dayofyear\n",
    "    \n",
    "    \n",
    "    df_min_2005_2014 = df_2005_2014.groupby(['days'])['Data_Value'].min()\n",
    "    df_max_2005_2014 = df_2005_2014.groupby(['days'])['Data_Value'].max()\n",
    "    df_min_2015 = df_2015.groupby(['days'])['Data_Value'].min()\n",
    "    df_max_2015 = df_2015.groupby(['days'])['Data_Value'].max()\n",
    "\n",
    "    _min_2015_over_2005_2014 = [x for x in df_min_2005_2014.index if df_min_2015.loc[x] < df_min_2005_2014.loc[x]]\n",
    "    min_2015_over_2005_2014_x = [x for x in _min_2015_over_2005_2014]\n",
    "    min_2015_over_2005_2014_y = [df_min_2015[x] for x in _min_2015_over_2005_2014]\n",
    "\n",
    "    _max_2015_over_2005_2014 = [x for x in df_max_2005_2014.index if df_max_2015.loc[x] > df_max_2005_2014.loc[x]]\n",
    "    max_2015_over_2005_2014_x = [x for x in _max_2015_over_2005_2014]\n",
    "    max_2015_over_2005_2014_y = [df_max_2015[x] for x in _max_2015_over_2005_2014]\n",
    "\n",
    "    ax = plt.gca()\n",
    "    df_min_2005_2014.plot(kind='line', color='cyan', alpha=1)\n",
    "    df_max_2005_2014.plot(kind='line', color='orange', alpha=1)\n",
    "    plt.scatter(max_2015_over_2005_2014_x, max_2015_over_2005_2014_y, c='red')\n",
    "    plt.scatter(min_2015_over_2005_2014_x, min_2015_over_2005_2014_y, c='blue')\n",
    "\n",
    "\n",
    "    plt.xlabel('Full year')\n",
    "    plt.ylabel('Celsius degree')\n",
    "    plt.title('Max an min temperatures for years')\n",
    "    plt.legend(['Min temps for day (2005-2014)','Max temp for day (2005-2014)', \"Max temp broken in 2015\", \"Min temp broken in 2015\"])\n",
    "    \n",
    "    fig = plt.gcf()\n",
    "    fig.set_size_inches(18.5, 10.5)\n",
    "    \n",
    "    plt.gca().fill_between(df_min_2005_2014.index, df_min_2005_2014.values, df_max_2005_2014.values, facecolor='grey', alpha=0.3)\n",
    "    plt.show()\n",
    "\n",
    "temperature_graph()"
   ]
  },
  {
   "cell_type": "code",
   "execution_count": null,
   "metadata": {
    "collapsed": true
   },
   "outputs": [],
   "source": []
  },
  {
   "cell_type": "code",
   "execution_count": null,
   "metadata": {
    "collapsed": true
   },
   "outputs": [],
   "source": []
  }
 ],
 "metadata": {
  "kernelspec": {
   "display_name": "Python 3",
   "language": "python",
   "name": "python3"
  },
  "language_info": {
   "codemirror_mode": {
    "name": "ipython",
    "version": 3
   },
   "file_extension": ".py",
   "mimetype": "text/x-python",
   "name": "python",
   "nbconvert_exporter": "python",
   "pygments_lexer": "ipython3",
   "version": "3.9.0"
  }
 },
 "nbformat": 4,
 "nbformat_minor": 1
}
